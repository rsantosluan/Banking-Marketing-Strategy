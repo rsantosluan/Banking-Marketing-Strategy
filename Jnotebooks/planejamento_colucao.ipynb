{
 "cells": [
  {
   "cell_type": "markdown",
   "metadata": {},
   "source": [
    "# 0.0- Planejamento da solução (IoT)"
   ]
  },
  {
   "cell_type": "markdown",
   "metadata": {},
   "source": [
    "## Input - Entrada"
   ]
  },
  {
   "cell_type": "markdown",
   "metadata": {},
   "source": [
    "- Problema de negócio\n",
    "    - Criar segmentação de clientes para embasar as estratégias de marketing do Banco;\n",
    "- Conjunto de dados\n",
    "    - Conjunto de dados em formato .csv, contendo o comportamento dos clientes nos últimos 6 meses;"
   ]
  },
  {
   "cell_type": "markdown",
   "metadata": {},
   "source": [
    "## Output - Saída"
   ]
  },
  {
   "cell_type": "markdown",
   "metadata": {},
   "source": [
    "- Lista de clientes segmentadas de acordo com o seu perfil de compras.\n",
    "            \n",
    "             |CUST_ID  |  GRUPO_ALOC  |  RECOMENDACAO     |\n",
    "             | ------- | ------------ |  ---------------- | \n",
    "             | 10999   |  'Agressivo' |  'Aumentar limite |\n",
    "\n",
    "- Relatório contendo respostas das perguntas.             "
   ]
  },
  {
   "cell_type": "markdown",
   "metadata": {},
   "source": [
    "## Tasks - Tarefas"
   ]
  },
  {
   "cell_type": "markdown",
   "metadata": {},
   "source": [
    "1. Criar segmentação dos clientes baseado em critérios claros de seleção;\n",
    "    - Aprofundar conhecimentos quanto a métricas de negócio para selecionar melhor os clientes em cada cluster.\n",
    "        - Clientes com maior volume de compras utilizando os cartões de crédito;\n",
    "        - Clientes que tenham uma maior pontuação de adiantamento de parcela;\n",
    "        - Clientes que tenham uma maior pontuação de frequência de compras;\n",
    "        - Clientes que tenham um maior índice de comrpas feitas;\n",
    "        - Clientes com maior percentual de pagamento integral;\n",
    "        - Valor máximo em compras feitas;\n",
    "        \n",
    "\n",
    "2. Tornar a segmentação de clientes acessível para o time de operações;\n",
    "    - Colocar os dados acessíveis em alguma plataforma de nuvem; \n",
    "    \n",
    "\n",
    "3. Auxiliar o time de operações quanto ao uso da solução;\n",
    "    - Criar um manual de utilização de fácil acesso para auxiliar o uso da ferramenta em nuvem;\n",
    "\n",
    "4. Recomendar 2-3 alavancas de negócio para cada seguimento de clientes;\n",
    "    - Frente a detecção dos clusters e as métricas de negócio, gerar uma tabela (ou variável) resposta com indicações quanto a ação para cada cluster;\n",
    "        - Análise de Cohort\n",
    "        - Aumento de limite\n",
    "        - Taxas de jurus especiais\n",
    "        - Programa de pontos para clientes \n",
    "        - Subir o nível da conta (Gold, Platinum,...)\n",
    "    - Retornar porcentagem de clientes no cluster e principais características de cada grupo;\n",
    "    "
   ]
  },
  {
   "cell_type": "markdown",
   "metadata": {},
   "source": []
  }
 ],
 "metadata": {
  "kernelspec": {
   "display_name": "Python 3.10.6 ('cluster_bank_venv': venv)",
   "language": "python",
   "name": "python3"
  },
  "language_info": {
   "name": "python",
   "version": "3.10.6"
  },
  "orig_nbformat": 4,
  "vscode": {
   "interpreter": {
    "hash": "8fb1b83e223760b4916a5638e531a9ae7cd6eea9d5cde6ac3a980bdd3e9be36d"
   }
  }
 },
 "nbformat": 4,
 "nbformat_minor": 2
}
